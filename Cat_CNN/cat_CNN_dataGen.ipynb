{
 "cells": [
  {
   "cell_type": "code",
   "execution_count": 1,
   "metadata": {
    "tags": []
   },
   "outputs": [],
   "source": [
    "from matplotlib import pyplot as plt\n",
    "from PIL import Image\n",
    "import math\n",
    "import numpy as np\n",
    "\n",
    "from keras import layers\n",
    "from keras import models\n",
    "from keras import optimizers\n",
    "from keras.preprocessing.image import ImageDataGenerator\n",
    "\n",
    "from keras.utils import plot_model\n",
    "from keras import backend\n"
   ]
  },
  {
   "cell_type": "code",
   "execution_count": 2,
   "metadata": {
    "tags": []
   },
   "outputs": [
    {
     "output_type": "stream",
     "name": "stdout",
     "text": "Found 4641 images belonging to 2 classes.\nFound 530 images belonging to 1 classes.\nFound 516 images belonging to 1 classes.\n"
    }
   ],
   "source": [
    "# Keras has a built in ImageDataGenerator class which can load images and manipulate them, but most importantly, keep only the images\n",
    "# in use in memory. Most of the settings below give the amount of manipulation, \n",
    "datagen = ImageDataGenerator(\n",
    "    rotation_range=40,\n",
    "    width_shift_range = 0.2,\n",
    "    height_shift_range=0.2,\n",
    "    rescale = 1/255,\n",
    "    shear_range = 0.2,\n",
    "    zoom_range = 0.2,\n",
    "    horizontal_flip=True,\n",
    "    fill_mode = 'nearest'\n",
    ")\n",
    "\n",
    "# These iterator objects automatically detect classes, and can be passed to the fit_generator function\n",
    "fatso_train_it = datagen.flow_from_directory('kitty_images/fatty_train/', class_mode='binary', batch_size=64)\n",
    "fatso_val_it = datagen.flow_from_directory('kitty_images/fatty_validation/', class_mode='binary', batch_size=64)\n",
    "fatso_test_it = datagen.flow_from_directory('kitty_images/fatty_test/', class_mode = 'binary', batch_size=64)\n",
    "\n",
    "# naj_train_it = datagen.flow_from_directory('kitty_images/naj_train/', class_mode='binary', batch_size=64)\n",
    "# naj_val_it = datagen.flow_from_directory('kitty_images/naj_validation/', class_mode='binary', batch_size=64)\n",
    "# naj_test_it = datagen.flow_from_directory('kitty_images/naj_test/', class_mode = 'binary', batch_size=64)\n"
   ]
  },
  {
   "cell_type": "code",
   "execution_count": null,
   "metadata": {},
   "outputs": [],
   "source": [
    "def make_model():\n",
    "    conv_model = models.Sequential()\n",
    "    conv_model.add(layers.Conv2D(32, (3, 3), activation='relu', input_shape=(256, 256, 3)))\n",
    "    conv_model.add(layers.MaxPooling2D((2, 2)))\n",
    "    conv_model.add(layers.Conv2D(64, (3, 3), activation='relu'))\n",
    "    conv_model.add(layers.MaxPooling2D((2, 2)))\n",
    "    conv_model.add(layers.Conv2D(128, (3, 3), activation='relu'))\n",
    "    conv_model.add(layers.MaxPooling2D((2, 2)))\n",
    "    conv_model.add(layers.Conv2D(128, (3, 3), activation='relu'))\n",
    "    conv_model.add(layers.MaxPooling2D((2, 2)))\n",
    "    conv_model.add(layers.Flatten())\n",
    "    conv_model.add(layers.Dropout(0.5))\n",
    "    conv_model.add(layers.Dense(512, activation='relu'))\n",
    "    conv_model.add(layers.Dense(2, activation='softmax'))\n",
    "\n",
    "    return conv_model\n",
    "\n",
    "LEARNING_RATE = 1e-4\n",
    "\n",
    "fatso_model = make_model()\n",
    "fatso_model.compile(loss='binary_crossentropy',\n",
    "                   optimizer=optimizers.RMSprop(lr=LEARNING_RATE),\n",
    "                   metrics=['acc'])\n",
    "\n",
    " \n",
    "# naj_model = make_model()\n",
    "# naj_model.compile(loss='binary_crossentropy',\n",
    "#                    optimizer=optimizers.RMSprop(lr=LEARNING_RATE),\n",
    "#                    metrics=['acc'])\n"
   ]
  },
  {
   "cell_type": "code",
   "execution_count": null,
   "metadata": {},
   "outputs": [],
   "source": [
    "# Train el models (lets just do fatso first)\n",
    "\n",
    "fatso_model.fit_generator(fatso_train_it, steps_per_epoch=106, validation_data = fatso_val_it, validation_steps = 40)\n",
    "\n",
    "loss = fatso_model.evaluate_generator(fatso_test_it,steps=32)\n",
    "\n",
    "fatso_model.save_weights('fatso_model_weights.h5')"
   ]
  }
 ],
 "metadata": {
  "language_info": {
   "codemirror_mode": {
    "name": "ipython",
    "version": 3
   },
   "file_extension": ".py",
   "mimetype": "text/x-python",
   "name": "python",
   "nbconvert_exporter": "python",
   "pygments_lexer": "ipython3",
   "version": "3.7.8-final"
  },
  "orig_nbformat": 2,
  "kernelspec": {
   "name": "python37864bitac9e70469a514280a5326257f1f6b735",
   "display_name": "Python 3.7.8 64-bit"
  }
 },
 "nbformat": 4,
 "nbformat_minor": 2
}